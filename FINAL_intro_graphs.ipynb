{
 "cells": [
  {
   "cell_type": "markdown",
   "metadata": {},
   "source": [
    "# [HIST 159B] Introduction to Python & Graphing!\n",
    "\n",
    "In this exercise, we will go over how to use Python and Matplotlib to generate graphs!\n",
    "\n",
    "## Table of Contents\n",
    "1 - [Python & Math](#python)<br>\n",
    "2 - [Variables](#var)<br>\n",
    "3 - [Functions & For Loops](#func)<br>\n",
    "4 - [Data Structures](#data)<br>\n",
    "5 - [Graph for Sweden Data](#graph)<br>\n",
    "6 - [Other Graphs](#other)<br>\n",
    "\n",
    "\n",
    "**Importing Dependencies:**\n",
    "\n",
    "*Good point to talk about here: What are Dependencies? Dependencies in Python are packages that adds extra functionality to Python, besides the language itself! For example, package called Scikit-learn allows us to use machine learning and make wicked AI programs!*"
   ]
  },
  {
   "cell_type": "code",
   "execution_count": 1,
   "metadata": {
    "collapsed": true
   },
   "outputs": [],
   "source": [
    "import math\n",
    "import numpy as np\n",
    "import pandas as pd\n",
    "import matplotlib\n",
    "%matplotlib inline\n",
    "import matplotlib.pyplot as plt\n",
    "import pandas as pd\n",
    "\n",
    "import skimage\n",
    "import skimage.io\n",
    "import skimage.filters"
   ]
  },
  {
   "cell_type": "markdown",
   "metadata": {},
   "source": [
    "----\n",
    "\n",
    "## Section 1: Python - Math  <a id='python'></a>\n",
    "\n",
    "Python is the main programming language we'll use in the lecture. Although this lecture should give you the backbones of how to use Python, please feel free to review one or more of the following materials in your own time to learn more about Python. \n",
    "\n",
    "- **[Python Tutorial](https://docs.python.org/3.5/tutorial/)**: Introduction to Python from the creators of Python\n",
    "- **[Composing Programs Chapter 1](http://composingprograms.com/pages/11-getting-started.html)**: This is more of a introduction to programming with Python, from CS 61A\n",
    "\n",
    "<br>\n",
    "**Mathematical Expressions**\n",
    "\n",
    "In Python, we: \n",
    "- Add by using the '+' sign\n",
    "- Multiply by using the '*' sign\n",
    "- Exponentiate by using the '**' sign\n",
    "- Divide by using '/' sign\n",
    "- Floor Divide by using '//' sign (8 // 3 = 2, 9 // 5 = 1) \n",
    "- Take the remainder / modulus by using the '%' sign"
   ]
  },
  {
   "cell_type": "markdown",
   "metadata": {},
   "source": [
    "*Exercise:* Take the product of three and three to the power of six, and subtract 169."
   ]
  },
  {
   "cell_type": "code",
   "execution_count": 2,
   "metadata": {},
   "outputs": [
    {
     "data": {
      "text/plain": [
       "Ellipsis"
      ]
     },
     "execution_count": 2,
     "metadata": {},
     "output_type": "execute_result"
    }
   ],
   "source": [
    "..."
   ]
  },
  {
   "cell_type": "code",
   "execution_count": 3,
   "metadata": {
    "scrolled": true
   },
   "outputs": [
    {
     "data": {
      "text/plain": [
       "2018"
      ]
     },
     "execution_count": 3,
     "metadata": {},
     "output_type": "execute_result"
    }
   ],
   "source": [
    "# SOLUTION\n",
    "(3 ** 6) * 3 - 169"
   ]
  },
  {
   "cell_type": "markdown",
   "metadata": {},
   "source": [
    "---\n",
    "## Section 2: Variables  <a id='var'></a>\n",
    "A name that is used to denote something or a value is called a variable. In python, variables can be declared and values can be assigned. Here are a few examples of variables and their assignments:"
   ]
  },
  {
   "cell_type": "code",
   "execution_count": 4,
   "metadata": {
    "collapsed": true
   },
   "outputs": [],
   "source": [
    "x = 2\n",
    "y = 3\n",
    "ab = \"Hi!\""
   ]
  },
  {
   "cell_type": "markdown",
   "metadata": {
    "nbgrader": {
     "cell_type": "markdown",
     "checksum": "1daa637fcc4cd5d89a98f1fa7a56d294",
     "grade": false,
     "grade_id": "output-and-printing",
     "locked": false,
     "schema_version": 2,
     "solution": false
    }
   },
   "source": [
    "**Output and Printing**\n",
    "\n",
    "Return and printing are two different things: \n",
    "- Return: A value is not necessarily printed, but it is stored away inside a computer, if we bind it! \n",
    "- Printing: A value pops up on our screen!\n",
    "\n",
    "We print using the **print** function and return a value using the **return** function. \n",
    "\n",
    "Here is a good point for us to take a break, and talk about calling functions. In Python, we have numerous functions, like: \n",
    "- print: print(SOMETHING) will print out the SOMETHING to our screen\n",
    "- sum: sum(VALUES) will sum up a lot of values together\n",
    "- And more!\n",
    "\n",
    "The most beautiful aspect about functions, actually, is that in Python, we can make our own functions, for anything we need to. We will discuss more about this a little later. \n",
    "\n",
    "For now, the most important thing to remember is that, to call a function, we write the function, like \"print\" and put paranthesis after the function like \"print()\". Then, we can put in our *arguments* inside the paranthesis, like \"print('Hi!')\" Arguments are what we call the function with, for example, it is the 'SOMETHING' in our print, or the 'VALUES' in our sum function.\n",
    "\n",
    "*Exercise:* Print the words 'Hello World!'"
   ]
  },
  {
   "cell_type": "code",
   "execution_count": 5,
   "metadata": {},
   "outputs": [
    {
     "data": {
      "text/plain": [
       "Ellipsis"
      ]
     },
     "execution_count": 5,
     "metadata": {},
     "output_type": "execute_result"
    }
   ],
   "source": [
    "..."
   ]
  },
  {
   "cell_type": "code",
   "execution_count": 6,
   "metadata": {},
   "outputs": [
    {
     "name": "stdout",
     "output_type": "stream",
     "text": [
      "Hello World!\n"
     ]
    }
   ],
   "source": [
    "# SOLUTION\n",
    "print('Hello World!')"
   ]
  },
  {
   "cell_type": "markdown",
   "metadata": {},
   "source": [
    "---\n",
    "## Section 3: Functions, For Loops  <a id='func'></a>\n",
    "A function is a block of organized, reusable code that is used to perform a single, related action. \n",
    "\n",
    "There are built in python functions but you can also create your own! If I wanted to print, return, or do a mathematical operation without having to do it manually everytime, I could just create a function and call it!\n",
    "\n",
    "So, how do I create them? We create functions using `def`, with the following structure: \n",
    "\n",
    "\n",
    "<center>`def function_name(arguments)`</center>\n",
    "\n",
    "How do I call them after making them? We first write the function name, then put parenthesis around them, like so: \n",
    "\n",
    "\n",
    "<center>`function_name(arguments)`</center>"
   ]
  },
  {
   "cell_type": "code",
   "execution_count": 7,
   "metadata": {
    "collapsed": true
   },
   "outputs": [],
   "source": [
    "def sum_multiply(a,b,c):\n",
    "    \"\"\" Adds 'a' and 'b * c' \"\"\"\n",
    "    # YOUR CODE HERE\n"
   ]
  },
  {
   "cell_type": "code",
   "execution_count": 8,
   "metadata": {
    "collapsed": true
   },
   "outputs": [],
   "source": [
    "# SOLUTION\n",
    "def sum_multiply(a,b,c):\n",
    "    \"\"\" Adds 'a' and 'b * c' \"\"\"\n",
    "    return a + b * c"
   ]
  },
  {
   "cell_type": "code",
   "execution_count": 9,
   "metadata": {},
   "outputs": [
    {
     "data": {
      "text/plain": [
       "7"
      ]
     },
     "execution_count": 9,
     "metadata": {},
     "output_type": "execute_result"
    }
   ],
   "source": [
    "sum_multiply(1, 2, 3)"
   ]
  },
  {
   "cell_type": "markdown",
   "metadata": {},
   "source": [
    "Something that also comes in very handy is what we call the \"for loops\" which repeats a block of code once for each element in a collection. \n",
    "\n",
    "Say I have a list of [1, 2, 3, 4, 5] and I want to add one to each element. This is **daunting**. But fear not, **for loop** is here to save your day! \n",
    "\n",
    "Let's walk through an example together: "
   ]
  },
  {
   "cell_type": "code",
   "execution_count": 10,
   "metadata": {
    "collapsed": true
   },
   "outputs": [],
   "source": [
    "lst = [1, 2, 3, 4, 5]\n",
    "\n",
    "new_lst = []\n",
    "\n",
    "for elem in lst: \n",
    "    new_elem = elem + 1\n",
    "    new_lst.append(new_elem)"
   ]
  },
  {
   "cell_type": "code",
   "execution_count": 11,
   "metadata": {},
   "outputs": [
    {
     "data": {
      "text/plain": [
       "[2, 3, 4, 5, 6]"
      ]
     },
     "execution_count": 11,
     "metadata": {},
     "output_type": "execute_result"
    }
   ],
   "source": [
    "new_lst"
   ]
  },
  {
   "cell_type": "markdown",
   "metadata": {},
   "source": [
    "--- \n",
    "## Section 4: Data Structures <a id='data'></a>\n",
    "\n",
    "**List:** Lists are primitive data structures that store data in the form of a list. \n",
    "\n",
    "To define a list, equate a variable to `[]` or `list()`. We can index into lists by using `lst[]` or add to the list by calling `.extend()` or `.append()`\n",
    "\n",
    "Here is how to use lists: "
   ]
  },
  {
   "cell_type": "code",
   "execution_count": 12,
   "metadata": {
    "collapsed": true
   },
   "outputs": [],
   "source": [
    "names = ['One', 'Two', 'Three', 'Four', 'Five']"
   ]
  },
  {
   "cell_type": "code",
   "execution_count": 13,
   "metadata": {},
   "outputs": [
    {
     "data": {
      "text/plain": [
       "'One'"
      ]
     },
     "execution_count": 13,
     "metadata": {},
     "output_type": "execute_result"
    }
   ],
   "source": [
    "names[0]"
   ]
  },
  {
   "cell_type": "code",
   "execution_count": 14,
   "metadata": {},
   "outputs": [
    {
     "data": {
      "text/plain": [
       "['Two', 'Three', 'Four']"
      ]
     },
     "execution_count": 14,
     "metadata": {},
     "output_type": "execute_result"
    }
   ],
   "source": [
    "names[1 : 4]"
   ]
  },
  {
   "cell_type": "markdown",
   "metadata": {},
   "source": [
    "**Dictionary:** Dictionaries are more used like a database because here you can index a particular sequence with your user defined string.\n",
    "\n",
    "To define a dictionary, equate a variable to `{}` or `dict()`"
   ]
  },
  {
   "cell_type": "code",
   "execution_count": 15,
   "metadata": {
    "collapsed": true
   },
   "outputs": [],
   "source": [
    "number_dict = {'One' : 1,\n",
    "               'Two' : 2, \n",
    "               'Three' : 3,\n",
    "               'Four' : 4,\n",
    "               'Five' : 5}"
   ]
  },
  {
   "cell_type": "code",
   "execution_count": 16,
   "metadata": {},
   "outputs": [
    {
     "data": {
      "text/plain": [
       "1"
      ]
     },
     "execution_count": 16,
     "metadata": {},
     "output_type": "execute_result"
    }
   ],
   "source": [
    "number_dict['One']"
   ]
  },
  {
   "cell_type": "code",
   "execution_count": 17,
   "metadata": {},
   "outputs": [
    {
     "data": {
      "text/plain": [
       "5"
      ]
     },
     "execution_count": 17,
     "metadata": {},
     "output_type": "execute_result"
    }
   ],
   "source": [
    "number_dict['Five']"
   ]
  },
  {
   "cell_type": "markdown",
   "metadata": {},
   "source": [
    "--- \n",
    "## Section 5: Graph for Sweden Data <a id='graph'></a>"
   ]
  },
  {
   "cell_type": "markdown",
   "metadata": {},
   "source": [
    "Now, let's get down to business to draw beautiful graphs for, firstly, the Sweden data. We can then move forth to drawing graphs for everything else soon!\n",
    "\n",
    "#### 1. Using Pandas to Observe Data\n",
    "\n",
    "Firstly, we load the Sweden data to Pandas Dataframe (https://pandas.pydata.org/pandas-docs/stable/generated/pandas.DataFrame.html)\n",
    "\n",
    "*What does this do?* It takes the data from our Comma-Separated Values - CSV - file (think Excel files), and converts it into a format that Pandas, our primary data manipulation library, can read. "
   ]
  },
  {
   "cell_type": "code",
   "execution_count": 18,
   "metadata": {
    "collapsed": true
   },
   "outputs": [],
   "source": [
    "sweden = pd.read_csv('data/sweden.csv')"
   ]
  },
  {
   "cell_type": "markdown",
   "metadata": {},
   "source": [
    "Now, let us observe the first few data. To do this, we will use `.head()` function"
   ]
  },
  {
   "cell_type": "code",
   "execution_count": 19,
   "metadata": {},
   "outputs": [
    {
     "data": {
      "text/html": [
       "<div>\n",
       "<style scoped>\n",
       "    .dataframe tbody tr th:only-of-type {\n",
       "        vertical-align: middle;\n",
       "    }\n",
       "\n",
       "    .dataframe tbody tr th {\n",
       "        vertical-align: top;\n",
       "    }\n",
       "\n",
       "    .dataframe thead th {\n",
       "        text-align: right;\n",
       "    }\n",
       "</style>\n",
       "<table border=\"1\" class=\"dataframe\">\n",
       "  <thead>\n",
       "    <tr style=\"text-align: right;\">\n",
       "      <th></th>\n",
       "      <th>Year</th>\n",
       "      <th>Population</th>\n",
       "      <th>LiveBirths</th>\n",
       "      <th>Deaths</th>\n",
       "      <th>Immigrations</th>\n",
       "      <th>Emigrations</th>\n",
       "      <th>Marriages</th>\n",
       "      <th>Divorces</th>\n",
       "    </tr>\n",
       "  </thead>\n",
       "  <tbody>\n",
       "    <tr>\n",
       "      <th>0</th>\n",
       "      <td>1749</td>\n",
       "      <td>1,764,724</td>\n",
       "      <td>59,483</td>\n",
       "      <td>49,516</td>\n",
       "      <td>..</td>\n",
       "      <td>..</td>\n",
       "      <td>15,046</td>\n",
       "      <td>..</td>\n",
       "    </tr>\n",
       "    <tr>\n",
       "      <th>1</th>\n",
       "      <td>1750</td>\n",
       "      <td>1,780,678</td>\n",
       "      <td>64,511</td>\n",
       "      <td>47,622</td>\n",
       "      <td>..</td>\n",
       "      <td>..</td>\n",
       "      <td>16,374</td>\n",
       "      <td>..</td>\n",
       "    </tr>\n",
       "    <tr>\n",
       "      <th>2</th>\n",
       "      <td>1751</td>\n",
       "      <td>1,802,132</td>\n",
       "      <td>69,291</td>\n",
       "      <td>46,902</td>\n",
       "      <td>..</td>\n",
       "      <td>..</td>\n",
       "      <td>16,599</td>\n",
       "      <td>..</td>\n",
       "    </tr>\n",
       "    <tr>\n",
       "      <th>3</th>\n",
       "      <td>1752</td>\n",
       "      <td>1,816,703</td>\n",
       "      <td>64,973</td>\n",
       "      <td>49,467</td>\n",
       "      <td>..</td>\n",
       "      <td>..</td>\n",
       "      <td>16,761</td>\n",
       "      <td>..</td>\n",
       "    </tr>\n",
       "    <tr>\n",
       "      <th>4</th>\n",
       "      <td>1753</td>\n",
       "      <td>1,837,869</td>\n",
       "      <td>66,007</td>\n",
       "      <td>43,905</td>\n",
       "      <td>..</td>\n",
       "      <td>..</td>\n",
       "      <td>15,923</td>\n",
       "      <td>..</td>\n",
       "    </tr>\n",
       "  </tbody>\n",
       "</table>\n",
       "</div>"
      ],
      "text/plain": [
       "   Year Population LiveBirths  Deaths Immigrations Emigrations Marriages  \\\n",
       "0  1749  1,764,724     59,483  49,516           ..          ..    15,046   \n",
       "1  1750  1,780,678     64,511  47,622           ..          ..    16,374   \n",
       "2  1751  1,802,132     69,291  46,902           ..          ..    16,599   \n",
       "3  1752  1,816,703     64,973  49,467           ..          ..    16,761   \n",
       "4  1753  1,837,869     66,007  43,905           ..          ..    15,923   \n",
       "\n",
       "  Divorces  \n",
       "0       ..  \n",
       "1       ..  \n",
       "2       ..  \n",
       "3       ..  \n",
       "4       ..  "
      ]
     },
     "execution_count": 19,
     "metadata": {},
     "output_type": "execute_result"
    }
   ],
   "source": [
    "sweden.head()"
   ]
  },
  {
   "cell_type": "markdown",
   "metadata": {},
   "source": [
    "**Interesting!** It looks like we have Year, Population, Live Births, Deaths (and more!) columns. \n",
    "\n",
    "#### 2. Use Matplotlib to Draw *Beautiful* Graphs\n",
    "Our goal is to create a graph that looks at the demographic changes in Sweden. The way we create graphs in Python is to also use a package: `Matplotlib` which creates professional looking graphs! \n",
    "\n",
    "*(There are more packages out there, from Plotly to Seaborn, which also create beautiful graphs. But, the easiest and the most \"core\" tool that data scientists use is Matplotlib, so we will work mostly with that in this session.)*\n",
    "\n",
    "The question, then, is what should we draw a graph of? Should we draw a graph of: \n",
    "1. Population changes by year?\n",
    "2. Percentage population changes by year? \n",
    "3. Absolute population changes by year?\n",
    "\n",
    "We will start off with the easiest - population changes by year - and build our way up. "
   ]
  },
  {
   "cell_type": "markdown",
   "metadata": {},
   "source": [
    "If I tell you to draw a graph on Microsoft Excel, with year and population, what would you do? Our first instinct is to drag the columns, and click on the \"Draw Graph\" button. In Python, we have the power of selecting everything we want. \n",
    "\n",
    "Let's start by selecting what goes on the x-axis and y-axis! We can index into a column by using `[column name]` and then use `.values` to grab all the values of the column"
   ]
  },
  {
   "cell_type": "code",
   "execution_count": 20,
   "metadata": {
    "collapsed": true
   },
   "outputs": [],
   "source": [
    "x_axis = sweden['Year'].values # the extra space should not be there"
   ]
  },
  {
   "cell_type": "code",
   "execution_count": 21,
   "metadata": {
    "collapsed": true
   },
   "outputs": [],
   "source": [
    "y_axis = sweden['Population'].values"
   ]
  },
  {
   "cell_type": "code",
   "execution_count": 22,
   "metadata": {},
   "outputs": [
    {
     "data": {
      "image/png": "[encoded data removed]",
      "text/plain": [
       "<Figure size 432x288 with 1 Axes>"
      ]
     },
     "metadata": {},
     "output_type": "display_data"
    }
   ],
   "source": [
    "plt.plot(x_axis, y_axis)\n",
    "plt.show()"
   ]
  },
  {
   "cell_type": "markdown",
   "metadata": {
    "collapsed": true
   },
   "source": [
    "Oh no! What has happened there? Although our code should create a beautiful graph, it looks like something is not working right. \n",
    "\n",
    "Take a look back to when we called `.head()`. We need **integer** values to create our graph, but taking a cursory look at the data, is this correct? \n",
    "\n",
    "*Hint: It is not!*\n",
    "\n",
    "Let's try to fix this issue then. We can try to re-import the data with some pre-fixes that Pandas has: `df.read_csv(file, thousands=',')`"
   ]
  },
  {
   "cell_type": "code",
   "execution_count": 23,
   "metadata": {
    "collapsed": true
   },
   "outputs": [],
   "source": [
    "sweden = pd.read_csv('data/sweden.csv', thousands=',')"
   ]
  },
  {
   "cell_type": "markdown",
   "metadata": {},
   "source": [
    "We take a look at the data again. Does it look cleaner now? "
   ]
  },
  {
   "cell_type": "code",
   "execution_count": 24,
   "metadata": {},
   "outputs": [
    {
     "data": {
      "text/html": [
       "<div>\n",
       "<style scoped>\n",
       "    .dataframe tbody tr th:only-of-type {\n",
       "        vertical-align: middle;\n",
       "    }\n",
       "\n",
       "    .dataframe tbody tr th {\n",
       "        vertical-align: top;\n",
       "    }\n",
       "\n",
       "    .dataframe thead th {\n",
       "        text-align: right;\n",
       "    }\n",
       "</style>\n",
       "<table border=\"1\" class=\"dataframe\">\n",
       "  <thead>\n",
       "    <tr style=\"text-align: right;\">\n",
       "      <th></th>\n",
       "      <th>Year</th>\n",
       "      <th>Population</th>\n",
       "      <th>LiveBirths</th>\n",
       "      <th>Deaths</th>\n",
       "      <th>Immigrations</th>\n",
       "      <th>Emigrations</th>\n",
       "      <th>Marriages</th>\n",
       "      <th>Divorces</th>\n",
       "    </tr>\n",
       "  </thead>\n",
       "  <tbody>\n",
       "    <tr>\n",
       "      <th>0</th>\n",
       "      <td>1749</td>\n",
       "      <td>1764724</td>\n",
       "      <td>59483</td>\n",
       "      <td>49516</td>\n",
       "      <td>..</td>\n",
       "      <td>..</td>\n",
       "      <td>15046</td>\n",
       "      <td>..</td>\n",
       "    </tr>\n",
       "    <tr>\n",
       "      <th>1</th>\n",
       "      <td>1750</td>\n",
       "      <td>1780678</td>\n",
       "      <td>64511</td>\n",
       "      <td>47622</td>\n",
       "      <td>..</td>\n",
       "      <td>..</td>\n",
       "      <td>16374</td>\n",
       "      <td>..</td>\n",
       "    </tr>\n",
       "    <tr>\n",
       "      <th>2</th>\n",
       "      <td>1751</td>\n",
       "      <td>1802132</td>\n",
       "      <td>69291</td>\n",
       "      <td>46902</td>\n",
       "      <td>..</td>\n",
       "      <td>..</td>\n",
       "      <td>16599</td>\n",
       "      <td>..</td>\n",
       "    </tr>\n",
       "    <tr>\n",
       "      <th>3</th>\n",
       "      <td>1752</td>\n",
       "      <td>1816703</td>\n",
       "      <td>64973</td>\n",
       "      <td>49467</td>\n",
       "      <td>..</td>\n",
       "      <td>..</td>\n",
       "      <td>16761</td>\n",
       "      <td>..</td>\n",
       "    </tr>\n",
       "    <tr>\n",
       "      <th>4</th>\n",
       "      <td>1753</td>\n",
       "      <td>1837869</td>\n",
       "      <td>66007</td>\n",
       "      <td>43905</td>\n",
       "      <td>..</td>\n",
       "      <td>..</td>\n",
       "      <td>15923</td>\n",
       "      <td>..</td>\n",
       "    </tr>\n",
       "  </tbody>\n",
       "</table>\n",
       "</div>"
      ],
      "text/plain": [
       "   Year  Population  LiveBirths  Deaths Immigrations Emigrations  Marriages  \\\n",
       "0  1749     1764724       59483   49516           ..          ..      15046   \n",
       "1  1750     1780678       64511   47622           ..          ..      16374   \n",
       "2  1751     1802132       69291   46902           ..          ..      16599   \n",
       "3  1752     1816703       64973   49467           ..          ..      16761   \n",
       "4  1753     1837869       66007   43905           ..          ..      15923   \n",
       "\n",
       "  Divorces  \n",
       "0       ..  \n",
       "1       ..  \n",
       "2       ..  \n",
       "3       ..  \n",
       "4       ..  "
      ]
     },
     "execution_count": 24,
     "metadata": {},
     "output_type": "execute_result"
    }
   ],
   "source": [
    "sweden.head()"
   ]
  },
  {
   "cell_type": "code",
   "execution_count": 25,
   "metadata": {
    "collapsed": true
   },
   "outputs": [],
   "source": [
    "x_axis = sweden['Year']"
   ]
  },
  {
   "cell_type": "code",
   "execution_count": 26,
   "metadata": {
    "collapsed": true
   },
   "outputs": [],
   "source": [
    "y_axis = sweden['Population']"
   ]
  },
  {
   "cell_type": "code",
   "execution_count": 27,
   "metadata": {},
   "outputs": [
    {
     "data": {
      "image/png": "[encoded data removed]",
      "text/plain": [
       "<Figure size 432x288 with 1 Axes>"
      ]
     },
     "metadata": {},
     "output_type": "display_data"
    }
   ],
   "source": [
    "plt.plot(x_axis, y_axis)\n",
    "plt.xlabel('Year')\n",
    "plt.ylabel('Population')\n",
    "plt.title('Population of Sweden by Year')\n",
    "plt.grid(True)\n",
    "\n",
    "plt.show()"
   ]
  },
  {
   "cell_type": "markdown",
   "metadata": {},
   "source": [
    "We now define new variables to define the birth and death rate per population in Sweden by year. And, why don't we make them a little descriptive too?  "
   ]
  },
  {
   "cell_type": "code",
   "execution_count": 28,
   "metadata": {
    "collapsed": true
   },
   "outputs": [],
   "source": [
    "birth_per_pop = 1000 * sweden['LiveBirths'] / y_axis\n",
    "death_per_pop = 1000 * sweden['Deaths'] / y_axis"
   ]
  },
  {
   "cell_type": "code",
   "execution_count": 29,
   "metadata": {},
   "outputs": [
    {
     "data": {
      "image/png": "[encoded data removed]",
      "text/plain": [
       "<Figure size 432x288 with 1 Axes>"
      ]
     },
     "metadata": {},
     "output_type": "display_data"
    }
   ],
   "source": [
    "plt.plot(x_axis, birth_per_pop)\n",
    "plt.plot(x_axis, death_per_pop)\n",
    "plt.xlabel('Year')\n",
    "plt.ylabel('Population')\n",
    "plt.title('Population of Sweden by Year')\n",
    "plt.grid(True)\n",
    "\n",
    "plt.show()"
   ]
  },
  {
   "cell_type": "markdown",
   "metadata": {},
   "source": [
    "---\n",
    "## Section 6: Other Graphs <a id='other'></a>\n",
    "\n",
    "Now, let's use what we did for Sweden to draw graphs for everything else!"
   ]
  },
  {
   "cell_type": "code",
   "execution_count": 30,
   "metadata": {
    "collapsed": true
   },
   "outputs": [],
   "source": [
    "England_Wales = pd.read_csv('data/England_Wales.csv',  thousands=',')\n",
    "Chile = pd.read_csv('data/Chile.csv',  thousands=',')\n",
    "Russia = pd.read_csv('data/Russia.csv',  thousands=',')\n",
    "Mauritius = pd.read_csv('data/Mauritius.csv', thousands=',')"
   ]
  },
  {
   "cell_type": "markdown",
   "metadata": {},
   "source": [
    "First, we check how our data roughly looks like!"
   ]
  },
  {
   "cell_type": "code",
   "execution_count": 31,
   "metadata": {
    "scrolled": true
   },
   "outputs": [
    {
     "data": {
      "text/html": [
       "<div>\n",
       "<style scoped>\n",
       "    .dataframe tbody tr th:only-of-type {\n",
       "        vertical-align: middle;\n",
       "    }\n",
       "\n",
       "    .dataframe tbody tr th {\n",
       "        vertical-align: top;\n",
       "    }\n",
       "\n",
       "    .dataframe thead th {\n",
       "        text-align: right;\n",
       "    }\n",
       "</style>\n",
       "<table border=\"1\" class=\"dataframe\">\n",
       "  <thead>\n",
       "    <tr style=\"text-align: right;\">\n",
       "      <th></th>\n",
       "      <th>Year</th>\n",
       "      <th>Population</th>\n",
       "      <th>LiveBirths</th>\n",
       "      <th>Deaths</th>\n",
       "    </tr>\n",
       "  </thead>\n",
       "  <tbody>\n",
       "    <tr>\n",
       "      <th>0</th>\n",
       "      <td>1850</td>\n",
       "      <td>1294</td>\n",
       "      <td>41.3</td>\n",
       "      <td>18.8</td>\n",
       "    </tr>\n",
       "    <tr>\n",
       "      <th>1</th>\n",
       "      <td>1851</td>\n",
       "      <td>1326</td>\n",
       "      <td>38.5</td>\n",
       "      <td>20.5</td>\n",
       "    </tr>\n",
       "    <tr>\n",
       "      <th>2</th>\n",
       "      <td>1852</td>\n",
       "      <td>1358</td>\n",
       "      <td>40.9</td>\n",
       "      <td>19.5</td>\n",
       "    </tr>\n",
       "    <tr>\n",
       "      <th>3</th>\n",
       "      <td>1853</td>\n",
       "      <td>1391</td>\n",
       "      <td>44.7</td>\n",
       "      <td>22.9</td>\n",
       "    </tr>\n",
       "    <tr>\n",
       "      <th>4</th>\n",
       "      <td>1854</td>\n",
       "      <td>1423</td>\n",
       "      <td>43.3</td>\n",
       "      <td>21.7</td>\n",
       "    </tr>\n",
       "  </tbody>\n",
       "</table>\n",
       "</div>"
      ],
      "text/plain": [
       "   Year\\r  Population\\r  LiveBirths\\r  Deaths\n",
       "0    1850          1294          41.3    18.8\n",
       "1    1851          1326          38.5    20.5\n",
       "2    1852          1358          40.9    19.5\n",
       "3    1853          1391          44.7    22.9\n",
       "4    1854          1423          43.3    21.7"
      ]
     },
     "execution_count": 31,
     "metadata": {},
     "output_type": "execute_result"
    }
   ],
   "source": [
    "Chile.head()"
   ]
  },
  {
   "cell_type": "markdown",
   "metadata": {},
   "source": [
    "We are also working with **real** data here. This implies that a lot of the data we have are going to, unfortunately, be a little dirty, so we need to go through the process of finding out everything. For example, we had to separate everything by the thousands, or else, the program recognized it as a string!\n",
    "\n",
    "Another issue that we face is that the column names may not necessarily be clean. Guess what - we have a method to find out what the column names are exactly encoded as!"
   ]
  },
  {
   "cell_type": "code",
   "execution_count": 32,
   "metadata": {},
   "outputs": [
    {
     "data": {
      "text/plain": [
       "['Year\\r', 'Population\\r', 'LiveBirths\\r', 'Deaths']"
      ]
     },
     "execution_count": 32,
     "metadata": {},
     "output_type": "execute_result"
    }
   ],
   "source": [
    "Chile.columns.tolist()"
   ]
  },
  {
   "cell_type": "markdown",
   "metadata": {},
   "source": [
    "Now, let's go through our process of finding the x and y-axis values, and also make them a little more descriptive this time!"
   ]
  },
  {
   "cell_type": "code",
   "execution_count": 33,
   "metadata": {
    "collapsed": true
   },
   "outputs": [],
   "source": [
    "year = Chile['Year\\r'].astype(int)\n",
    "pop = Chile['Population\\r'].astype(int)\n",
    "birth_per_pop = 1000 * Chile['LiveBirths\\r'] / pop\n",
    "death_per_pop = 1000 * Chile['Deaths'] / pop"
   ]
  },
  {
   "cell_type": "code",
   "execution_count": 34,
   "metadata": {},
   "outputs": [
    {
     "data": {
      "image/png": "[encoded data removed]",
      "text/plain": [
       "<Figure size 432x288 with 1 Axes>"
      ]
     },
     "metadata": {},
     "output_type": "display_data"
    }
   ],
   "source": [
    "plt.plot(year, birth_per_pop)\n",
    "plt.plot(year, death_per_pop)\n",
    "plt.xlabel('Year')\n",
    "plt.ylabel('Population')\n",
    "plt.title('Population of Chile by Year')\n",
    "plt.grid(True)\n",
    "\n",
    "plt.show()"
   ]
  },
  {
   "cell_type": "markdown",
   "metadata": {},
   "source": [
    "---\n",
    "### Exercise: \n",
    "Let's now do the same for all the other countries: Russia and Mauritius"
   ]
  },
  {
   "cell_type": "code",
   "execution_count": 35,
   "metadata": {},
   "outputs": [
    {
     "data": {
      "text/plain": [
       "['Year\\r', '\\rPopulation\\r', 'LiveBirths', 'Deaths\\r']"
      ]
     },
     "execution_count": 35,
     "metadata": {},
     "output_type": "execute_result"
    }
   ],
   "source": [
    "Russia = Russia.dropna()\n",
    "Russia.columns.tolist()"
   ]
  },
  {
   "cell_type": "code",
   "execution_count": 36,
   "metadata": {
    "collapsed": true
   },
   "outputs": [],
   "source": [
    "year = Russia['Year\\r'].astype(int)\n",
    "pop = Russia['\\rPopulation\\r'].astype(int)\n",
    "birth_per_pop = 100 * Russia['LiveBirths'] / pop\n",
    "death_per_pop = 100 * Russia['Deaths\\r'] / pop"
   ]
  },
  {
   "cell_type": "code",
   "execution_count": 37,
   "metadata": {},
   "outputs": [
    {
     "data": {
      "image/png": "[encoded data removed]",
      "text/plain": [
       "<Figure size 432x288 with 1 Axes>"
      ]
     },
     "metadata": {},
     "output_type": "display_data"
    }
   ],
   "source": [
    "plt.plot(year, birth_per_pop)\n",
    "plt.plot(year, death_per_pop)\n",
    "plt.xlabel('Year')\n",
    "plt.ylabel('Population')\n",
    "plt.title('Population of Russia by Year')\n",
    "plt.grid(True)\n",
    "\n",
    "plt.show()"
   ]
  },
  {
   "cell_type": "markdown",
   "metadata": {},
   "source": [
    "### Mauritius Data"
   ]
  },
  {
   "cell_type": "code",
   "execution_count": 38,
   "metadata": {
    "collapsed": true
   },
   "outputs": [],
   "source": [
    "Mauritius = Mauritius.dropna()"
   ]
  },
  {
   "cell_type": "code",
   "execution_count": 39,
   "metadata": {
    "collapsed": true
   },
   "outputs": [],
   "source": [
    "year = Mauritius['Year\\r'].astype(int)\n",
    "pop = Mauritius['Population\\r'].astype(int)\n",
    "birth_per_pop = 100 * Mauritius['LiveBirths\\r'].astype(float) / pop\n",
    "death_per_pop = 100 * Mauritius['Deaths\\r'].astype(float) / pop"
   ]
  },
  {
   "cell_type": "code",
   "execution_count": 40,
   "metadata": {
    "scrolled": true
   },
   "outputs": [
    {
     "data": {
      "image/png": "[encoded data removed]",
      "text/plain": [
       "<Figure size 432x288 with 1 Axes>"
      ]
     },
     "metadata": {},
     "output_type": "display_data"
    }
   ],
   "source": [
    "plt.plot(year, birth_per_pop)\n",
    "plt.plot(year, death_per_pop)\n",
    "plt.xlabel('Year')\n",
    "plt.ylabel('Population')\n",
    "plt.title('Population of Mauritius by Year')\n",
    "plt.grid(True)\n",
    "\n",
    "plt.show()"
   ]
  },
  {
   "cell_type": "code",
   "execution_count": null,
   "metadata": {
    "collapsed": true
   },
   "outputs": [],
   "source": []
  }
 ],
 "metadata": {
  "kernelspec": {
   "display_name": "Python 3",
   "language": "python",
   "name": "python3"
  },
  "language_info": {
   "codemirror_mode": {
    "name": "ipython",
    "version": 3
   },
   "file_extension": ".py",
   "mimetype": "text/x-python",
   "name": "python",
   "nbconvert_exporter": "python",
   "pygments_lexer": "ipython3",
   "version": "3.6.6"
  }
 },
 "nbformat": 4,
 "nbformat_minor": 2
}
