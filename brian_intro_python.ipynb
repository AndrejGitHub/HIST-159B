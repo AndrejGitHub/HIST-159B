{
 "cells": [
  {
   "cell_type": "markdown",
   "metadata": {},
   "source": [
    "# [HIST 159B] Introduction to Python\n",
    "\n",
    "In this exercise, we will go over how to use Python and Matplotlib to generate graphs!\n",
    "\n",
    "## Table of Contents\n",
    "1 - [Jupyter Notebook](#jupyter)<br>\n",
    "2 - [Python](#python)<br>\n",
    "\n",
    "\n",
    "**Importing Dependencies:**\n",
    "\n",
    "*Good point to talk about here: What are Dependencies? Dependencies in Python are packages that adds extra functionality to Python, besides the language itself! For example, package called Scikit-learn allows us to use machine learning and make wicked AI programs!*"
   ]
  },
  {
   "cell_type": "code",
   "execution_count": null,
   "metadata": {
    "collapsed": true,
    "nbgrader": {
     "cell_type": "code",
     "checksum": "996a8f6425097050e05ac9cfbe898e48",
     "grade": false,
     "grade_id": "all-the-imports",
     "locked": false,
     "schema_version": 2,
     "solution": false
    }
   },
   "outputs": [],
   "source": [
    "import math\n",
    "import numpy as np\n",
    "import matplotlib\n",
    "%matplotlib inline\n",
    "import matplotlib.pyplot as plt\n",
    "plt.style.use('fivethirtyeight')\n",
    "import pandas as pd\n",
    "\n",
    "import skimage\n",
    "import skimage.io\n",
    "import skimage.filters"
   ]
  },
  {
   "cell_type": "markdown",
   "metadata": {},
   "source": [
    "----\n",
    "## Section 1: Jupyter Notebook\n",
    "\n",
    "Welcome to the beautiful world of Jupyter Notebooks!"
   ]
  },
  {
   "cell_type": "code",
   "execution_count": null,
   "metadata": {
    "collapsed": true
   },
   "outputs": [],
   "source": []
  },
  {
   "cell_type": "markdown",
   "metadata": {
    "nbgrader": {
     "cell_type": "markdown",
     "checksum": "70d77ecade2565eb58c37a0bbccaca8e",
     "grade": false,
     "grade_id": "python-tutorial-links",
     "locked": false,
     "schema_version": 2,
     "solution": false
    }
   },
   "source": [
    "----\n",
    "\n",
    "## Section 2: Python  <a id='python'></a>\n",
    "\n",
    "Python is the main programming language we'll use in the lecture. Although this lecture should give you the backbones of how to use Python, please feel free to review one or more of the following materials in your own time to learn more about Python. \n",
    "\n",
    "- **[Python Tutorial](https://docs.python.org/3.5/tutorial/)**: Introduction to Python from the creators of Python\n",
    "- **[Composing Programs Chapter 1](http://composingprograms.com/pages/11-getting-started.html)**: This is more of a introduction to programming with Python, from CS 61A\n",
    "\n",
    "<br>\n",
    "**Mathematical Expressions**\n",
    "\n",
    "In Python, we: \n",
    "- Add by using the '+' sign\n",
    "- Multiply by using the '*' sign\n",
    "- Exponentiate by using the '**' sign\n",
    "- Divide by using '/' sign\n",
    "- Floor Divide by using '//' sign (8 // 3 = 2, 9 // 5 = 1) \n",
    "- Take the remainder / modulus by using the '%' sign"
   ]
  },
  {
   "cell_type": "markdown",
   "metadata": {},
   "source": [
    "*Exercise:* Take the product of three and three to the power of six, and subtract 169."
   ]
  },
  {
   "cell_type": "code",
   "execution_count": null,
   "metadata": {
    "collapsed": true
   },
   "outputs": [],
   "source": [
    "..."
   ]
  },
  {
   "cell_type": "code",
   "execution_count": null,
   "metadata": {
    "collapsed": true
   },
   "outputs": [],
   "source": [
    "# SOLUTION\n",
    "(3 ** 6) * 3 - 169"
   ]
  },
  {
   "cell_type": "code",
   "execution_count": null,
   "metadata": {
    "collapsed": true,
    "nbgrader": {
     "cell_type": "code",
     "checksum": "9ab477866cebf6782c1e5adb03977369",
     "grade": false,
     "grade_id": "why-no-print",
     "locked": false,
     "schema_version": 2,
     "solution": false
    }
   },
   "outputs": [],
   "source": [
    "# Example printing! \n",
    "print(\"Hello World!\")"
   ]
  },
  {
   "cell_type": "markdown",
   "metadata": {
    "nbgrader": {
     "cell_type": "markdown",
     "checksum": "1daa637fcc4cd5d89a98f1fa7a56d294",
     "grade": false,
     "grade_id": "output-and-printing",
     "locked": false,
     "schema_version": 2,
     "solution": false
    }
   },
   "source": [
    "**Output and Printing**\n",
    "\n",
    "Return and printing are two different things: \n",
    "- Return: A value is not necessarily printed, but it is stored away inside a computer, if we bind it! \n",
    "- Printing: A value pops up on our screen!\n",
    "\n",
    "We print using the **print** function and return a value using the **return** function. \n",
    "\n",
    "Here is a good point for us to take a break, and talk about calling functions. In Python, we have numerous functions, like: \n",
    "- print: print(SOMETHING) will print out the SOMETHING to our screen\n",
    "- sum: sum(VALUES) will sum up a lot of values together\n",
    "- And more!\n",
    "\n",
    "The most beautiful aspect about functions, actually, is that in Python, we can make our own functions, for anything we need to. We will discuss more about this a little later. \n",
    "\n",
    "For now, the most important thing to remember is that, to call a function, we write the function, like \"print\" and put paranthesis after the function like \"print()\". Then, we can put in our *arguments* inside the paranthesis, like \"print('Hi!')\" Arguments are what we call the function with, for example, it is the 'SOMETHING' in our print, or the 'VALUES' in our sum function.\n",
    "\n",
    "*Exercise:* Print the words 'Hello World!'"
   ]
  },
  {
   "cell_type": "markdown",
   "metadata": {},
   "source": [
    "*Exercise:* Return the string 'Hello World!'"
   ]
  },
  {
   "cell_type": "code",
   "execution_count": null,
   "metadata": {
    "collapsed": true
   },
   "outputs": [],
   "source": [
    "# Example Returning!\n",
    "return 'Hello World!'"
   ]
  },
  {
   "cell_type": "markdown",
   "metadata": {},
   "source": [
    "**For Loops**"
   ]
  },
  {
   "cell_type": "code",
   "execution_count": null,
   "metadata": {
    "collapsed": true,
    "nbgrader": {
     "cell_type": "code",
     "checksum": "53b1f92b21db1701fb02bc3945fdb329",
     "grade": false,
     "grade_id": "for-loops-code",
     "locked": false,
     "schema_version": 2,
     "solution": false
    }
   },
   "outputs": [],
   "source": [
    "# A for loop repeats a block of code once for each\n",
    "# element in a given collection.\n",
    "for i in range(5):\n",
    "    if i % 2 == 0:\n",
    "        print(2**i)\n",
    "    else:\n",
    "        print(\"Odd power of 2\")"
   ]
  },
  {
   "cell_type": "markdown",
   "metadata": {},
   "source": [
    "**Strings** ([Reference](https://developers.google.com/edu/python/strings))"
   ]
  },
  {
   "cell_type": "code",
   "execution_count": null,
   "metadata": {
    "collapsed": true
   },
   "outputs": [],
   "source": [
    "s = 'hi'\n",
    "print(s[1])         ## i\n",
    "print(len(s))       ## 2\n",
    "print(s + ' there')"
   ]
  },
  {
   "cell_type": "code",
   "execution_count": null,
   "metadata": {
    "collapsed": true
   },
   "outputs": [],
   "source": [
    "pi = 3.14\n",
    "##text = 'The value of pi is ' + pi      ## NO, does not work\n",
    "text = 'The value of pi is '  + str(pi)  ## yes\n",
    "print(text)"
   ]
  },
  {
   "cell_type": "markdown",
   "metadata": {},
   "source": [
    "*Exercise:* write a line of code that will output 'I like 3.14' without explicitly typing out the number."
   ]
  },
  {
   "cell_type": "code",
   "execution_count": null,
   "metadata": {
    "collapsed": true
   },
   "outputs": [],
   "source": [
    "..."
   ]
  },
  {
   "cell_type": "code",
   "execution_count": null,
   "metadata": {
    "collapsed": true
   },
   "outputs": [],
   "source": [
    "# SOLUTION\n",
    "\"I like \" + str(pi)"
   ]
  },
  {
   "cell_type": "markdown",
   "metadata": {},
   "source": [
    "**Lists** ([Reference](https://docs.python.org/3.5/tutorial/introduction.html#lists))"
   ]
  },
  {
   "cell_type": "code",
   "execution_count": null,
   "metadata": {
    "collapsed": true
   },
   "outputs": [],
   "source": [
    "squares = [1, 4, 9, 16, 25]\n",
    "squares"
   ]
  },
  {
   "cell_type": "code",
   "execution_count": null,
   "metadata": {
    "collapsed": true
   },
   "outputs": [],
   "source": [
    "print(squares[0])\n",
    "print(squares[-1])\n",
    "print(squares[-3:])\n",
    "print(squares[:])\n",
    "print(squares + [36, 49, 64, 81, 100])"
   ]
  },
  {
   "cell_type": "markdown",
   "metadata": {
    "nbgrader": {
     "cell_type": "markdown",
     "checksum": "ff336c88be61f39380c7984668e88c49",
     "grade": false,
     "grade_id": "list-comprehension",
     "locked": false,
     "schema_version": 2,
     "solution": false
    }
   },
   "source": [
    "**List Comprehension**"
   ]
  },
  {
   "cell_type": "code",
   "execution_count": null,
   "metadata": {
    "collapsed": true,
    "nbgrader": {
     "cell_type": "code",
     "checksum": "b73efbbf915254c428decbb42230921d",
     "grade": false,
     "grade_id": "list-comp-code",
     "locked": false,
     "schema_version": 2,
     "solution": false
    }
   },
   "outputs": [],
   "source": [
    "[str(i) + \" sheep.\" for i in range(1,5)] "
   ]
  },
  {
   "cell_type": "code",
   "execution_count": null,
   "metadata": {
    "collapsed": true,
    "nbgrader": {
     "cell_type": "code",
     "checksum": "cf2b95d90c0fd3a6754cbeb83a1523c4",
     "grade": false,
     "grade_id": "more-list-comp-code",
     "locked": false,
     "schema_version": 2,
     "solution": false
    }
   },
   "outputs": [],
   "source": [
    "[i for i in range(10) if i % 2 == 0]"
   ]
  },
  {
   "cell_type": "markdown",
   "metadata": {},
   "source": [
    "*Exercise:* Write a list comprehension that will give all odd numbers from 1 through 190"
   ]
  },
  {
   "cell_type": "code",
   "execution_count": null,
   "metadata": {
    "collapsed": true
   },
   "outputs": [],
   "source": [
    "..."
   ]
  },
  {
   "cell_type": "code",
   "execution_count": null,
   "metadata": {
    "collapsed": true
   },
   "outputs": [],
   "source": [
    "# SOLUTION (does not necessarily need print statement, added so output would not flood notebook)\n",
    "print([i for i in range(191) if i % 2 != 0])"
   ]
  },
  {
   "cell_type": "markdown",
   "metadata": {},
   "source": [
    "**Dictionaries** ([Reference](https://docs.python.org/3.5/tutorial/datastructures.html#dictionaries))"
   ]
  },
  {
   "cell_type": "code",
   "execution_count": null,
   "metadata": {
    "collapsed": true
   },
   "outputs": [],
   "source": [
    "tel = {'jack': 4127, 'sape': 4145}\n",
    "tel['john'] = 4127\n",
    "del tel['sape']"
   ]
  },
  {
   "cell_type": "code",
   "execution_count": null,
   "metadata": {
    "collapsed": true
   },
   "outputs": [],
   "source": [
    "tel"
   ]
  },
  {
   "cell_type": "code",
   "execution_count": null,
   "metadata": {
    "collapsed": true
   },
   "outputs": [],
   "source": [
    "tel['jack']"
   ]
  },
  {
   "cell_type": "markdown",
   "metadata": {
    "nbgrader": {
     "cell_type": "markdown",
     "checksum": "4019eddb08e868ba791409d6fc683de2",
     "grade": false,
     "grade_id": "defining-functions",
     "locked": false,
     "schema_version": 2,
     "solution": false
    }
   },
   "source": [
    "**Defining Functions**"
   ]
  },
  {
   "cell_type": "code",
   "execution_count": null,
   "metadata": {
    "collapsed": true,
    "nbgrader": {
     "cell_type": "code",
     "checksum": "661113989cc8f0b9d720538abe72442b",
     "grade": false,
     "grade_id": "add-2-function",
     "locked": false,
     "schema_version": 2,
     "solution": false
    }
   },
   "outputs": [],
   "source": [
    "def add2(x):\n",
    "    \"\"\"This docstring explains what this function does: it adds 2 to a number.\"\"\"\n",
    "    return x + 2"
   ]
  },
  {
   "cell_type": "markdown",
   "metadata": {
    "nbgrader": {
     "cell_type": "markdown",
     "checksum": "c09ded864939c7c63ae05ff2acce1d41",
     "grade": false,
     "grade_id": "get-help",
     "locked": false,
     "schema_version": 2,
     "solution": false
    }
   },
   "source": [
    "**Getting Help**"
   ]
  },
  {
   "cell_type": "code",
   "execution_count": null,
   "metadata": {
    "collapsed": true,
    "nbgrader": {
     "cell_type": "code",
     "checksum": "5ca8b464f0d81a22dbc80a5d3290933c",
     "grade": false,
     "grade_id": "help-add2",
     "locked": false,
     "schema_version": 2,
     "solution": false
    }
   },
   "outputs": [],
   "source": [
    "help(add2)"
   ]
  },
  {
   "cell_type": "markdown",
   "metadata": {
    "nbgrader": {
     "cell_type": "markdown",
     "checksum": "912292fe078a9d0a1a657f687a32c36d",
     "grade": false,
     "grade_id": "passing-functions",
     "locked": false,
     "schema_version": 2,
     "solution": false
    }
   },
   "source": [
    "**Passing Functions as Values**"
   ]
  },
  {
   "cell_type": "code",
   "execution_count": null,
   "metadata": {
    "collapsed": true,
    "nbgrader": {
     "cell_type": "code",
     "checksum": "7b21bff1e2ab7845e6e05dc3ba2c077b",
     "grade": false,
     "grade_id": "make-adder",
     "locked": false,
     "schema_version": 2,
     "solution": false
    }
   },
   "outputs": [],
   "source": [
    "def makeAdder(amount):\n",
    "    \"\"\"Make a function that adds the given amount to a number.\"\"\"\n",
    "    def addAmount(x):\n",
    "        return x + amount\n",
    "    return addAmount\n",
    "\n",
    "add3 = makeAdder(3)\n",
    "add3(4)"
   ]
  },
  {
   "cell_type": "code",
   "execution_count": null,
   "metadata": {
    "collapsed": true,
    "nbgrader": {
     "cell_type": "code",
     "checksum": "fd40615aeeb0790416e16438edfe0009",
     "grade": false,
     "grade_id": "make-adder-curry",
     "locked": false,
     "schema_version": 2,
     "solution": false
    }
   },
   "outputs": [],
   "source": [
    "makeAdder(3)(4)"
   ]
  },
  {
   "cell_type": "markdown",
   "metadata": {},
   "source": [
    "*Exercise:* What happens if you don't include an argument for `add3`? Why does it happen?"
   ]
  },
  {
   "cell_type": "markdown",
   "metadata": {},
   "source": [
    "*Your answer here*"
   ]
  },
  {
   "cell_type": "code",
   "execution_count": null,
   "metadata": {
    "collapsed": true
   },
   "outputs": [],
   "source": [
    "# SOLUTION\n",
    "Since \"makeAdder\" is a higher order function, it returns the function \"addAmount\" that was defined in the \n",
    "body of makeAdder. Therefore, by not incuding a second argument in add3, we only get the object pointing to the \n",
    "function that is adding three to another argument (which would have been the other argument)."
   ]
  },
  {
   "cell_type": "markdown",
   "metadata": {
    "nbgrader": {
     "cell_type": "markdown",
     "checksum": "faff97b2a7f4ace5201df1699b9ab4b8",
     "grade": false,
     "grade_id": "anon-function",
     "locked": false,
     "schema_version": 2,
     "solution": false
    }
   },
   "source": [
    "**Anonymous Functions and Lambdas**"
   ]
  },
  {
   "cell_type": "code",
   "execution_count": null,
   "metadata": {
    "collapsed": true,
    "nbgrader": {
     "cell_type": "code",
     "checksum": "db319326f7568ac22198aac2be52d31c",
     "grade": false,
     "grade_id": "add4-to-5",
     "locked": false,
     "schema_version": 2,
     "solution": false
    }
   },
   "outputs": [],
   "source": [
    "# add4 is very similar to add2, but it's been created using a lambda expression.\n",
    "add4 = lambda x: x + 4\n",
    "add4(5)"
   ]
  },
  {
   "cell_type": "markdown",
   "metadata": {},
   "source": [
    "*Exercise:* Create a lambda expression that does not take any arguemnts and returns the string \"My favorite cycle(s) is/are ...\" (interpret the prompt any way you want -- we think graph cycles are pretty cool!)"
   ]
  },
  {
   "cell_type": "code",
   "execution_count": null,
   "metadata": {
    "collapsed": true
   },
   "outputs": [],
   "source": [
    "favorite_cycle = ...\n",
    "#call your function below!\n",
    "..."
   ]
  },
  {
   "cell_type": "code",
   "execution_count": null,
   "metadata": {
    "collapsed": true
   },
   "outputs": [],
   "source": [
    "# POTENTIAL SOLUTION\n",
    "favorite_cycle = lambda: \"My favorite cycles are graph cycles\"\n",
    "favorite_cycle()"
   ]
  },
  {
   "cell_type": "markdown",
   "metadata": {
    "nbgrader": {
     "cell_type": "markdown",
     "checksum": "e55f303b10d675f20ab0057c79959a1d",
     "grade": false,
     "grade_id": "recurrsion",
     "locked": false,
     "schema_version": 2,
     "solution": false
    }
   },
   "source": [
    "**Recursion**"
   ]
  },
  {
   "cell_type": "code",
   "execution_count": null,
   "metadata": {
    "collapsed": true,
    "nbgrader": {
     "cell_type": "code",
     "checksum": "1375f02cbe0d34d7b176de7870af2da6",
     "grade": false,
     "grade_id": "total-fib",
     "locked": false,
     "schema_version": 2,
     "solution": false
    }
   },
   "outputs": [],
   "source": [
    "def fib(n):\n",
    "    if n <= 1:\n",
    "        return 1\n",
    "    else:\n",
    "        # Functions can call themselves recursively.\n",
    "        return fib(n-1) + fib(n-2)\n",
    "\n",
    "fib(6)"
   ]
  },
  {
   "cell_type": "markdown",
   "metadata": {
    "nbgrader": {
     "cell_type": "markdown",
     "checksum": "85d8b83f79434888f22c52650ac2da35",
     "grade": false,
     "grade_id": "begin-question1",
     "locked": false,
     "schema_version": 2,
     "solution": false
    }
   },
   "source": [
    "----\n",
    "\n",
    "**Question 1.1:** Fill in the ellipses in the function `nums_reversed`, which takes in an integer `n` and returns a string containing the numbers 1 through `n` including `n` in reverse order, separated by spaces. For example:\n",
    "\n",
    "    >>> nums_reversed(5)\n",
    "    '5 4 3 2 1'"
   ]
  },
  {
   "cell_type": "code",
   "execution_count": null,
   "metadata": {
    "collapsed": true
   },
   "outputs": [],
   "source": [
    "def nums_reversed(n):\n",
    "    ### BEGIN SOLUTION\n",
    "    return \" \".join([...])\n",
    "    ### END SOLUTION"
   ]
  },
  {
   "cell_type": "code",
   "execution_count": null,
   "metadata": {
    "collapsed": true,
    "nbgrader": {
     "cell_type": "code",
     "checksum": "54cc8f567acf9aef5ba9614d0c5315ba",
     "grade": false,
     "grade_id": "num-reversed",
     "locked": false,
     "schema_version": 2,
     "solution": true
    }
   },
   "outputs": [],
   "source": [
    "def nums_reversed(n):\n",
    "    ### BEGIN SOLUTION\n",
    "    return \" \".join([str(i) for i in range(n, 0, -1)])\n",
    "    ### END SOLUTION"
   ]
  },
  {
   "cell_type": "code",
   "execution_count": null,
   "metadata": {
    "collapsed": true
   },
   "outputs": [],
   "source": [
    "assert nums_reversed(5) == '5 4 3 2 1'\n",
    "assert nums_reversed(10) == '10 9 8 7 6 5 4 3 2 1'"
   ]
  },
  {
   "cell_type": "markdown",
   "metadata": {
    "nbgrader": {
     "cell_type": "markdown",
     "checksum": "e10d3fdb45628f1b001607b511e70eeb",
     "grade": false,
     "grade_id": "question1b",
     "locked": false,
     "schema_version": 2,
     "solution": false
    }
   },
   "source": [
    "**Question 1.2:** Write a function `string_splosion` that takes in a non-empty string like\n",
    "`\"Code\"` and returns a long string containing every prefix of the input.\n",
    "For example:\n",
    "\n",
    "    >>> string_splosion('Code')\n",
    "    'CCoCodCode'\n",
    "    >>> string_splosion('data!')\n",
    "    'ddadatdatadata!'\n",
    "    >>> string_splosion('hi')\n",
    "    'hhi'\n",
    "\n",
    "**Hint:** Try to use recursion. Think about how you might answering the following two questions:\n",
    "1. **[Base Case]** What is the `string_splosion` of the empty string?\n",
    "1. **[Inductive Step]** If you had a `string_splosion` function for the first $n-1$ characters of your string how could you extend it to the $n^{th}$ character? For example, `string_splosion(\"Cod\") = \"CCoCod\"` becomes `string_splosion(\"Code\") = \"CCoCodCode\"`."
   ]
  },
  {
   "cell_type": "code",
   "execution_count": null,
   "metadata": {
    "collapsed": true
   },
   "outputs": [],
   "source": [
    "def string_splosion(string):\n",
    "    ### BEGIN SOLUTION\n",
    "    ...\n",
    "    ### END SOLUTION"
   ]
  },
  {
   "cell_type": "code",
   "execution_count": null,
   "metadata": {
    "collapsed": true,
    "nbgrader": {
     "cell_type": "code",
     "checksum": "0e914e56528eea142a988ed922a67fe4",
     "grade": false,
     "grade_id": "string-splosion",
     "locked": false,
     "schema_version": 2,
     "solution": true
    },
    "tags": [
     "solution"
    ]
   },
   "outputs": [],
   "source": [
    "def string_splosion(string):\n",
    "    ### BEGIN SOLUTION\n",
    "    if string == '':\n",
    "        return ''\n",
    "    return string_splosion(string[:-1]) + string\n",
    "    ### END SOLUTION"
   ]
  },
  {
   "cell_type": "code",
   "execution_count": null,
   "metadata": {
    "collapsed": true
   },
   "outputs": [],
   "source": [
    "assert string_splosion('Code') == 'CCoCodCode'\n",
    "assert string_splosion('data!') == 'ddadatdatadata!'\n",
    "assert string_splosion('hi') =='hhi'"
   ]
  },
  {
   "cell_type": "markdown",
   "metadata": {},
   "source": [
    "**Question 1.3:** Write a function double100 that takes in a list of integers and returns True only if the list has two 100s next to each other.\n",
    "\n",
    "\n",
    "    >>> double100([100, 2, 3, 100])\n",
    "    False\n",
    "    >>> double100([2, 3, 100, 100, 5])\n",
    "    True\n",
    "    "
   ]
  },
  {
   "cell_type": "code",
   "execution_count": null,
   "metadata": {
    "collapsed": true
   },
   "outputs": [],
   "source": [
    "def double100(nums):\n",
    "    ### BEGIN SOLUTION\n",
    "    ...\n",
    "    ### END SOLUTION"
   ]
  },
  {
   "cell_type": "code",
   "execution_count": null,
   "metadata": {
    "collapsed": true,
    "nbgrader": {
     "cell_type": "code",
     "checksum": "97b8e4a77b5a3f0cc184b6012307fc2c",
     "grade": false,
     "grade_id": "double100",
     "locked": false,
     "schema_version": 2,
     "solution": true
    },
    "tags": [
     "solution"
    ]
   },
   "outputs": [],
   "source": [
    "def double100(nums):\n",
    "    ### BEGIN SOLUTION\n",
    "    if len(nums) < 2: \n",
    "        return False\n",
    "    if nums[0] == nums[1] == 100: \n",
    "        return True\n",
    "    return double100(nums[1:])\n",
    "    ### END SOLUTION"
   ]
  },
  {
   "cell_type": "code",
   "execution_count": null,
   "metadata": {
    "collapsed": true
   },
   "outputs": [],
   "source": [
    "assert double100([100, 2, 3, 100]) == False\n",
    "assert double100([2, 3, 100, 100, 5]) == True"
   ]
  },
  {
   "cell_type": "markdown",
   "metadata": {},
   "source": [
    "**Question 1.4:** Write a function `name_counts` that takes in a list of names (strings), creates a dictionary that records the number of times each name appears in the list.\n",
    "\n",
    "    >>> print(name_counts([\"Bill\", \"Jack\", \"Jack\", \"Kate\", \"Jill\"]))\n",
    "    {\"Jack\": 2, \"Bill\": 1, \"Jill\": 1,\"Kate\": 1,}"
   ]
  },
  {
   "cell_type": "code",
   "execution_count": null,
   "metadata": {
    "collapsed": true
   },
   "outputs": [],
   "source": [
    "def name_counts(names_list):\n",
    "    ### BEGIN SOLUTION\n",
    "    name_counts_dict = {}\n",
    "\n",
    "    for name in ...:\n",
    "        ...\n",
    "            \n",
    "    return name_counts_dict\n",
    "    ### END SOLUTION"
   ]
  },
  {
   "cell_type": "code",
   "execution_count": null,
   "metadata": {
    "collapsed": true
   },
   "outputs": [],
   "source": [
    "def name_counts(names_list):\n",
    "    ### BEGIN SOLUTION\n",
    "    name_counts_dict = {}\n",
    "\n",
    "    for name in names_list:\n",
    "        if name not in name_counts_dict:\n",
    "            name_counts_dict[name] = 1\n",
    "        else:\n",
    "            name_counts_dict[name] += 1\n",
    "            \n",
    "    return name_counts_dict\n",
    "    ### END SOLUTION"
   ]
  },
  {
   "cell_type": "code",
   "execution_count": null,
   "metadata": {
    "collapsed": true
   },
   "outputs": [],
   "source": [
    "print(name_counts([\"Bill\", \"Jack\", \"Jack\", \"Kate\", \"Jill\"]))"
   ]
  }
 ],
 "metadata": {
  "kernelspec": {
   "display_name": "Python 3",
   "language": "python",
   "name": "python3"
  },
  "language_info": {
   "codemirror_mode": {
    "name": "ipython",
    "version": 3
   },
   "file_extension": ".py",
   "mimetype": "text/x-python",
   "name": "python",
   "nbconvert_exporter": "python",
   "pygments_lexer": "ipython3",
   "version": "3.6.6"
  },
  "toc": {
   "colors": {
    "hover_highlight": "#DAA520",
    "running_highlight": "#FF0000",
    "selected_highlight": "#FFD700"
   },
   "moveMenuLeft": true,
   "nav_menu": {
    "height": "512px",
    "width": "252px"
   },
   "navigate_menu": true,
   "number_sections": true,
   "sideBar": true,
   "threshold": 4,
   "toc_cell": true,
   "toc_section_display": "none",
   "toc_window_display": true
  }
 },
 "nbformat": 4,
 "nbformat_minor": 2
}
